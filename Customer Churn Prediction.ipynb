{
 "cells": [
  {
   "cell_type": "markdown",
   "id": "f1d6d6d3",
   "metadata": {},
   "source": [
    "# Customer Churn Prediction"
   ]
  },
  {
   "cell_type": "markdown",
   "id": "86cb4c6a",
   "metadata": {},
   "source": [
    "### Importing Library"
   ]
  },
  {
   "cell_type": "code",
   "execution_count": 34,
   "id": "debce362",
   "metadata": {},
   "outputs": [],
   "source": [
    "import numpy as np\n",
    "import pandas as pd\n",
    "import seaborn as sns\n",
    "import matplotlib.pyplot as plt"
   ]
  },
  {
   "cell_type": "markdown",
   "id": "d32e8bff",
   "metadata": {},
   "source": [
    "### Reading CSV as dataframe"
   ]
  },
  {
   "cell_type": "code",
   "execution_count": 35,
   "id": "66ec4d62",
   "metadata": {},
   "outputs": [],
   "source": [
    "df = pd.read_csv('Churn_Modelling.csv')"
   ]
  },
  {
   "cell_type": "code",
   "execution_count": 36,
   "id": "bcf75365",
   "metadata": {},
   "outputs": [
    {
     "data": {
      "text/html": [
       "<div>\n",
       "<style scoped>\n",
       "    .dataframe tbody tr th:only-of-type {\n",
       "        vertical-align: middle;\n",
       "    }\n",
       "\n",
       "    .dataframe tbody tr th {\n",
       "        vertical-align: top;\n",
       "    }\n",
       "\n",
       "    .dataframe thead th {\n",
       "        text-align: right;\n",
       "    }\n",
       "</style>\n",
       "<table border=\"1\" class=\"dataframe\">\n",
       "  <thead>\n",
       "    <tr style=\"text-align: right;\">\n",
       "      <th></th>\n",
       "      <th>RowNumber</th>\n",
       "      <th>CustomerId</th>\n",
       "      <th>Surname</th>\n",
       "      <th>CreditScore</th>\n",
       "      <th>Geography</th>\n",
       "      <th>Gender</th>\n",
       "      <th>Age</th>\n",
       "      <th>Tenure</th>\n",
       "      <th>Balance</th>\n",
       "      <th>NumOfProducts</th>\n",
       "      <th>HasCrCard</th>\n",
       "      <th>IsActiveMember</th>\n",
       "      <th>EstimatedSalary</th>\n",
       "      <th>Exited</th>\n",
       "    </tr>\n",
       "  </thead>\n",
       "  <tbody>\n",
       "    <tr>\n",
       "      <th>0</th>\n",
       "      <td>1</td>\n",
       "      <td>15634602</td>\n",
       "      <td>Hargrave</td>\n",
       "      <td>619</td>\n",
       "      <td>France</td>\n",
       "      <td>Female</td>\n",
       "      <td>42</td>\n",
       "      <td>2</td>\n",
       "      <td>0.00</td>\n",
       "      <td>1</td>\n",
       "      <td>1</td>\n",
       "      <td>1</td>\n",
       "      <td>101348.88</td>\n",
       "      <td>1</td>\n",
       "    </tr>\n",
       "    <tr>\n",
       "      <th>1</th>\n",
       "      <td>2</td>\n",
       "      <td>15647311</td>\n",
       "      <td>Hill</td>\n",
       "      <td>608</td>\n",
       "      <td>Spain</td>\n",
       "      <td>Female</td>\n",
       "      <td>41</td>\n",
       "      <td>1</td>\n",
       "      <td>83807.86</td>\n",
       "      <td>1</td>\n",
       "      <td>0</td>\n",
       "      <td>1</td>\n",
       "      <td>112542.58</td>\n",
       "      <td>0</td>\n",
       "    </tr>\n",
       "    <tr>\n",
       "      <th>2</th>\n",
       "      <td>3</td>\n",
       "      <td>15619304</td>\n",
       "      <td>Onio</td>\n",
       "      <td>502</td>\n",
       "      <td>France</td>\n",
       "      <td>Female</td>\n",
       "      <td>42</td>\n",
       "      <td>8</td>\n",
       "      <td>159660.80</td>\n",
       "      <td>3</td>\n",
       "      <td>1</td>\n",
       "      <td>0</td>\n",
       "      <td>113931.57</td>\n",
       "      <td>1</td>\n",
       "    </tr>\n",
       "    <tr>\n",
       "      <th>3</th>\n",
       "      <td>4</td>\n",
       "      <td>15701354</td>\n",
       "      <td>Boni</td>\n",
       "      <td>699</td>\n",
       "      <td>France</td>\n",
       "      <td>Female</td>\n",
       "      <td>39</td>\n",
       "      <td>1</td>\n",
       "      <td>0.00</td>\n",
       "      <td>2</td>\n",
       "      <td>0</td>\n",
       "      <td>0</td>\n",
       "      <td>93826.63</td>\n",
       "      <td>0</td>\n",
       "    </tr>\n",
       "    <tr>\n",
       "      <th>4</th>\n",
       "      <td>5</td>\n",
       "      <td>15737888</td>\n",
       "      <td>Mitchell</td>\n",
       "      <td>850</td>\n",
       "      <td>Spain</td>\n",
       "      <td>Female</td>\n",
       "      <td>43</td>\n",
       "      <td>2</td>\n",
       "      <td>125510.82</td>\n",
       "      <td>1</td>\n",
       "      <td>1</td>\n",
       "      <td>1</td>\n",
       "      <td>79084.10</td>\n",
       "      <td>0</td>\n",
       "    </tr>\n",
       "  </tbody>\n",
       "</table>\n",
       "</div>"
      ],
      "text/plain": [
       "   RowNumber  CustomerId   Surname  CreditScore Geography  Gender  Age  \\\n",
       "0          1    15634602  Hargrave          619    France  Female   42   \n",
       "1          2    15647311      Hill          608     Spain  Female   41   \n",
       "2          3    15619304      Onio          502    France  Female   42   \n",
       "3          4    15701354      Boni          699    France  Female   39   \n",
       "4          5    15737888  Mitchell          850     Spain  Female   43   \n",
       "\n",
       "   Tenure    Balance  NumOfProducts  HasCrCard  IsActiveMember  \\\n",
       "0       2       0.00              1          1               1   \n",
       "1       1   83807.86              1          0               1   \n",
       "2       8  159660.80              3          1               0   \n",
       "3       1       0.00              2          0               0   \n",
       "4       2  125510.82              1          1               1   \n",
       "\n",
       "   EstimatedSalary  Exited  \n",
       "0        101348.88       1  \n",
       "1        112542.58       0  \n",
       "2        113931.57       1  \n",
       "3         93826.63       0  \n",
       "4         79084.10       0  "
      ]
     },
     "execution_count": 36,
     "metadata": {},
     "output_type": "execute_result"
    }
   ],
   "source": [
    "df.head()"
   ]
  },
  {
   "cell_type": "code",
   "execution_count": 37,
   "id": "c0077cea",
   "metadata": {},
   "outputs": [
    {
     "data": {
      "text/plain": [
       "(10000, 14)"
      ]
     },
     "execution_count": 37,
     "metadata": {},
     "output_type": "execute_result"
    }
   ],
   "source": [
    "# Shape of df\n",
    "df.shape"
   ]
  },
  {
   "cell_type": "code",
   "execution_count": 38,
   "id": "9984d4d2",
   "metadata": {},
   "outputs": [
    {
     "name": "stdout",
     "output_type": "stream",
     "text": [
      "<class 'pandas.core.frame.DataFrame'>\n",
      "RangeIndex: 10000 entries, 0 to 9999\n",
      "Data columns (total 14 columns):\n",
      " #   Column           Non-Null Count  Dtype  \n",
      "---  ------           --------------  -----  \n",
      " 0   RowNumber        10000 non-null  int64  \n",
      " 1   CustomerId       10000 non-null  int64  \n",
      " 2   Surname          10000 non-null  object \n",
      " 3   CreditScore      10000 non-null  int64  \n",
      " 4   Geography        10000 non-null  object \n",
      " 5   Gender           10000 non-null  object \n",
      " 6   Age              10000 non-null  int64  \n",
      " 7   Tenure           10000 non-null  int64  \n",
      " 8   Balance          10000 non-null  float64\n",
      " 9   NumOfProducts    10000 non-null  int64  \n",
      " 10  HasCrCard        10000 non-null  int64  \n",
      " 11  IsActiveMember   10000 non-null  int64  \n",
      " 12  EstimatedSalary  10000 non-null  float64\n",
      " 13  Exited           10000 non-null  int64  \n",
      "dtypes: float64(2), int64(9), object(3)\n",
      "memory usage: 1.1+ MB\n"
     ]
    }
   ],
   "source": [
    "# Check Dataframe Info\n",
    "df.info()"
   ]
  },
  {
   "cell_type": "code",
   "execution_count": 39,
   "id": "ee5a5969",
   "metadata": {},
   "outputs": [
    {
     "data": {
      "text/plain": [
       "RowNumber          0\n",
       "CustomerId         0\n",
       "Surname            0\n",
       "CreditScore        0\n",
       "Geography          0\n",
       "Gender             0\n",
       "Age                0\n",
       "Tenure             0\n",
       "Balance            0\n",
       "NumOfProducts      0\n",
       "HasCrCard          0\n",
       "IsActiveMember     0\n",
       "EstimatedSalary    0\n",
       "Exited             0\n",
       "dtype: int64"
      ]
     },
     "execution_count": 39,
     "metadata": {},
     "output_type": "execute_result"
    }
   ],
   "source": [
    "# Check for NULL Values\n",
    "df.isnull().sum()"
   ]
  },
  {
   "cell_type": "code",
   "execution_count": 40,
   "id": "4270c642",
   "metadata": {},
   "outputs": [
    {
     "data": {
      "text/plain": [
       "Exited\n",
       "0    7963\n",
       "1    2037\n",
       "Name: count, dtype: int64"
      ]
     },
     "execution_count": 40,
     "metadata": {},
     "output_type": "execute_result"
    }
   ],
   "source": [
    "# No of Values of Exited\n",
    "df['Exited'].value_counts()"
   ]
  },
  {
   "cell_type": "markdown",
   "id": "f1b0fb90",
   "metadata": {},
   "source": [
    "**Un balanced dataset**"
   ]
  },
  {
   "cell_type": "code",
   "execution_count": 41,
   "id": "84eea54d",
   "metadata": {},
   "outputs": [
    {
     "data": {
      "text/plain": [
       "Geography\n",
       "France     5014\n",
       "Germany    2509\n",
       "Spain      2477\n",
       "Name: count, dtype: int64"
      ]
     },
     "execution_count": 41,
     "metadata": {},
     "output_type": "execute_result"
    }
   ],
   "source": [
    "# No of Values of Geography\n",
    "df['Geography'].value_counts()"
   ]
  },
  {
   "cell_type": "markdown",
   "id": "685f38de",
   "metadata": {},
   "source": [
    "**Categorical columnn Geography with values France,Germany,Spain**"
   ]
  },
  {
   "cell_type": "code",
   "execution_count": 42,
   "id": "4774785f",
   "metadata": {},
   "outputs": [
    {
     "data": {
      "text/plain": [
       "Gender\n",
       "Male      5457\n",
       "Female    4543\n",
       "Name: count, dtype: int64"
      ]
     },
     "execution_count": 42,
     "metadata": {},
     "output_type": "execute_result"
    }
   ],
   "source": [
    "# No of Values of Gender\n",
    "df['Gender'].value_counts()"
   ]
  },
  {
   "cell_type": "markdown",
   "id": "5cffdb77",
   "metadata": {},
   "source": [
    "**Categorical columnn Gender with values Male,Female**"
   ]
  },
  {
   "cell_type": "markdown",
   "id": "050dbbae",
   "metadata": {},
   "source": [
    "### Dropping Columns"
   ]
  },
  {
   "cell_type": "code",
   "execution_count": 43,
   "id": "79e4f3c6",
   "metadata": {},
   "outputs": [
    {
     "data": {
      "text/html": [
       "<div>\n",
       "<style scoped>\n",
       "    .dataframe tbody tr th:only-of-type {\n",
       "        vertical-align: middle;\n",
       "    }\n",
       "\n",
       "    .dataframe tbody tr th {\n",
       "        vertical-align: top;\n",
       "    }\n",
       "\n",
       "    .dataframe thead th {\n",
       "        text-align: right;\n",
       "    }\n",
       "</style>\n",
       "<table border=\"1\" class=\"dataframe\">\n",
       "  <thead>\n",
       "    <tr style=\"text-align: right;\">\n",
       "      <th></th>\n",
       "      <th>CreditScore</th>\n",
       "      <th>Geography</th>\n",
       "      <th>Gender</th>\n",
       "      <th>Age</th>\n",
       "      <th>Tenure</th>\n",
       "      <th>Balance</th>\n",
       "      <th>NumOfProducts</th>\n",
       "      <th>HasCrCard</th>\n",
       "      <th>IsActiveMember</th>\n",
       "      <th>EstimatedSalary</th>\n",
       "      <th>Exited</th>\n",
       "    </tr>\n",
       "  </thead>\n",
       "  <tbody>\n",
       "    <tr>\n",
       "      <th>0</th>\n",
       "      <td>619</td>\n",
       "      <td>France</td>\n",
       "      <td>Female</td>\n",
       "      <td>42</td>\n",
       "      <td>2</td>\n",
       "      <td>0.00</td>\n",
       "      <td>1</td>\n",
       "      <td>1</td>\n",
       "      <td>1</td>\n",
       "      <td>101348.88</td>\n",
       "      <td>1</td>\n",
       "    </tr>\n",
       "    <tr>\n",
       "      <th>1</th>\n",
       "      <td>608</td>\n",
       "      <td>Spain</td>\n",
       "      <td>Female</td>\n",
       "      <td>41</td>\n",
       "      <td>1</td>\n",
       "      <td>83807.86</td>\n",
       "      <td>1</td>\n",
       "      <td>0</td>\n",
       "      <td>1</td>\n",
       "      <td>112542.58</td>\n",
       "      <td>0</td>\n",
       "    </tr>\n",
       "    <tr>\n",
       "      <th>2</th>\n",
       "      <td>502</td>\n",
       "      <td>France</td>\n",
       "      <td>Female</td>\n",
       "      <td>42</td>\n",
       "      <td>8</td>\n",
       "      <td>159660.80</td>\n",
       "      <td>3</td>\n",
       "      <td>1</td>\n",
       "      <td>0</td>\n",
       "      <td>113931.57</td>\n",
       "      <td>1</td>\n",
       "    </tr>\n",
       "    <tr>\n",
       "      <th>3</th>\n",
       "      <td>699</td>\n",
       "      <td>France</td>\n",
       "      <td>Female</td>\n",
       "      <td>39</td>\n",
       "      <td>1</td>\n",
       "      <td>0.00</td>\n",
       "      <td>2</td>\n",
       "      <td>0</td>\n",
       "      <td>0</td>\n",
       "      <td>93826.63</td>\n",
       "      <td>0</td>\n",
       "    </tr>\n",
       "    <tr>\n",
       "      <th>4</th>\n",
       "      <td>850</td>\n",
       "      <td>Spain</td>\n",
       "      <td>Female</td>\n",
       "      <td>43</td>\n",
       "      <td>2</td>\n",
       "      <td>125510.82</td>\n",
       "      <td>1</td>\n",
       "      <td>1</td>\n",
       "      <td>1</td>\n",
       "      <td>79084.10</td>\n",
       "      <td>0</td>\n",
       "    </tr>\n",
       "  </tbody>\n",
       "</table>\n",
       "</div>"
      ],
      "text/plain": [
       "   CreditScore Geography  Gender  Age  Tenure    Balance  NumOfProducts  \\\n",
       "0          619    France  Female   42       2       0.00              1   \n",
       "1          608     Spain  Female   41       1   83807.86              1   \n",
       "2          502    France  Female   42       8  159660.80              3   \n",
       "3          699    France  Female   39       1       0.00              2   \n",
       "4          850     Spain  Female   43       2  125510.82              1   \n",
       "\n",
       "   HasCrCard  IsActiveMember  EstimatedSalary  Exited  \n",
       "0          1               1        101348.88       1  \n",
       "1          0               1        112542.58       0  \n",
       "2          1               0        113931.57       1  \n",
       "3          0               0         93826.63       0  \n",
       "4          1               1         79084.10       0  "
      ]
     },
     "execution_count": 43,
     "metadata": {},
     "output_type": "execute_result"
    }
   ],
   "source": [
    "df.drop(columns=['RowNumber', 'CustomerId', 'Surname'], inplace=True)\n",
    "df.head()"
   ]
  },
  {
   "cell_type": "markdown",
   "id": "7e3ade68",
   "metadata": {},
   "source": [
    "### Converting Categorical Variables"
   ]
  },
  {
   "cell_type": "code",
   "execution_count": 45,
   "id": "660fb418",
   "metadata": {},
   "outputs": [],
   "source": [
    "df=pd.get_dummies(df,columns=['Gender', 'Geography'], drop_first=True)"
   ]
  },
  {
   "cell_type": "code",
   "execution_count": 46,
   "id": "28c03d25",
   "metadata": {},
   "outputs": [
    {
     "data": {
      "text/html": [
       "<div>\n",
       "<style scoped>\n",
       "    .dataframe tbody tr th:only-of-type {\n",
       "        vertical-align: middle;\n",
       "    }\n",
       "\n",
       "    .dataframe tbody tr th {\n",
       "        vertical-align: top;\n",
       "    }\n",
       "\n",
       "    .dataframe thead th {\n",
       "        text-align: right;\n",
       "    }\n",
       "</style>\n",
       "<table border=\"1\" class=\"dataframe\">\n",
       "  <thead>\n",
       "    <tr style=\"text-align: right;\">\n",
       "      <th></th>\n",
       "      <th>CreditScore</th>\n",
       "      <th>Age</th>\n",
       "      <th>Tenure</th>\n",
       "      <th>Balance</th>\n",
       "      <th>NumOfProducts</th>\n",
       "      <th>HasCrCard</th>\n",
       "      <th>IsActiveMember</th>\n",
       "      <th>EstimatedSalary</th>\n",
       "      <th>Exited</th>\n",
       "      <th>Gender_Male</th>\n",
       "      <th>Geography_Germany</th>\n",
       "      <th>Geography_Spain</th>\n",
       "    </tr>\n",
       "  </thead>\n",
       "  <tbody>\n",
       "    <tr>\n",
       "      <th>0</th>\n",
       "      <td>619</td>\n",
       "      <td>42</td>\n",
       "      <td>2</td>\n",
       "      <td>0.00</td>\n",
       "      <td>1</td>\n",
       "      <td>1</td>\n",
       "      <td>1</td>\n",
       "      <td>101348.88</td>\n",
       "      <td>1</td>\n",
       "      <td>False</td>\n",
       "      <td>False</td>\n",
       "      <td>False</td>\n",
       "    </tr>\n",
       "    <tr>\n",
       "      <th>1</th>\n",
       "      <td>608</td>\n",
       "      <td>41</td>\n",
       "      <td>1</td>\n",
       "      <td>83807.86</td>\n",
       "      <td>1</td>\n",
       "      <td>0</td>\n",
       "      <td>1</td>\n",
       "      <td>112542.58</td>\n",
       "      <td>0</td>\n",
       "      <td>False</td>\n",
       "      <td>False</td>\n",
       "      <td>True</td>\n",
       "    </tr>\n",
       "    <tr>\n",
       "      <th>2</th>\n",
       "      <td>502</td>\n",
       "      <td>42</td>\n",
       "      <td>8</td>\n",
       "      <td>159660.80</td>\n",
       "      <td>3</td>\n",
       "      <td>1</td>\n",
       "      <td>0</td>\n",
       "      <td>113931.57</td>\n",
       "      <td>1</td>\n",
       "      <td>False</td>\n",
       "      <td>False</td>\n",
       "      <td>False</td>\n",
       "    </tr>\n",
       "    <tr>\n",
       "      <th>3</th>\n",
       "      <td>699</td>\n",
       "      <td>39</td>\n",
       "      <td>1</td>\n",
       "      <td>0.00</td>\n",
       "      <td>2</td>\n",
       "      <td>0</td>\n",
       "      <td>0</td>\n",
       "      <td>93826.63</td>\n",
       "      <td>0</td>\n",
       "      <td>False</td>\n",
       "      <td>False</td>\n",
       "      <td>False</td>\n",
       "    </tr>\n",
       "    <tr>\n",
       "      <th>4</th>\n",
       "      <td>850</td>\n",
       "      <td>43</td>\n",
       "      <td>2</td>\n",
       "      <td>125510.82</td>\n",
       "      <td>1</td>\n",
       "      <td>1</td>\n",
       "      <td>1</td>\n",
       "      <td>79084.10</td>\n",
       "      <td>0</td>\n",
       "      <td>False</td>\n",
       "      <td>False</td>\n",
       "      <td>True</td>\n",
       "    </tr>\n",
       "  </tbody>\n",
       "</table>\n",
       "</div>"
      ],
      "text/plain": [
       "   CreditScore  Age  Tenure    Balance  NumOfProducts  HasCrCard  \\\n",
       "0          619   42       2       0.00              1          1   \n",
       "1          608   41       1   83807.86              1          0   \n",
       "2          502   42       8  159660.80              3          1   \n",
       "3          699   39       1       0.00              2          0   \n",
       "4          850   43       2  125510.82              1          1   \n",
       "\n",
       "   IsActiveMember  EstimatedSalary  Exited  Gender_Male  Geography_Germany  \\\n",
       "0               1        101348.88       1        False              False   \n",
       "1               1        112542.58       0        False              False   \n",
       "2               0        113931.57       1        False              False   \n",
       "3               0         93826.63       0        False              False   \n",
       "4               1         79084.10       0        False              False   \n",
       "\n",
       "   Geography_Spain  \n",
       "0            False  \n",
       "1             True  \n",
       "2            False  \n",
       "3            False  \n",
       "4             True  "
      ]
     },
     "execution_count": 46,
     "metadata": {},
     "output_type": "execute_result"
    }
   ],
   "source": [
    "df.head()"
   ]
  },
  {
   "cell_type": "markdown",
   "id": "71e93fb0",
   "metadata": {},
   "source": [
    "### Getting Input and Outputs"
   ]
  },
  {
   "cell_type": "code",
   "execution_count": 47,
   "id": "af95a0e0",
   "metadata": {},
   "outputs": [],
   "source": [
    "### Getting X,y\n",
    "X=df.drop(columns=['Exited'])\n",
    "y=df['Exited']"
   ]
  },
  {
   "cell_type": "markdown",
   "id": "ef83075a",
   "metadata": {},
   "source": [
    "### train test split"
   ]
  },
  {
   "cell_type": "code",
   "execution_count": 48,
   "id": "db45e59d",
   "metadata": {},
   "outputs": [],
   "source": [
    "from sklearn.model_selection import train_test_split\n",
    "X_train,X_test,y_train,y_test=train_test_split(X,y,test_size=0.2,random_state=1)"
   ]
  },
  {
   "cell_type": "code",
   "execution_count": 49,
   "id": "0971240b",
   "metadata": {},
   "outputs": [
    {
     "name": "stdout",
     "output_type": "stream",
     "text": [
      "Shape of X_train=(8000, 11)\n",
      "Shape of X_test=(2000, 11)\n",
      "Shape of y_train=(8000,)\n",
      "Shape of y_test=(2000,)\n"
     ]
    }
   ],
   "source": [
    "print(f\"Shape of X_train={X_train.shape}\")\n",
    "print(f\"Shape of X_test={X_test.shape}\")\n",
    "print(f\"Shape of y_train={y_train.shape}\")\n",
    "print(f\"Shape of y_test={y_test.shape}\")"
   ]
  },
  {
   "cell_type": "code",
   "execution_count": 50,
   "id": "16f9b81e",
   "metadata": {},
   "outputs": [
    {
     "data": {
      "text/html": [
       "<div>\n",
       "<style scoped>\n",
       "    .dataframe tbody tr th:only-of-type {\n",
       "        vertical-align: middle;\n",
       "    }\n",
       "\n",
       "    .dataframe tbody tr th {\n",
       "        vertical-align: top;\n",
       "    }\n",
       "\n",
       "    .dataframe thead th {\n",
       "        text-align: right;\n",
       "    }\n",
       "</style>\n",
       "<table border=\"1\" class=\"dataframe\">\n",
       "  <thead>\n",
       "    <tr style=\"text-align: right;\">\n",
       "      <th></th>\n",
       "      <th>CreditScore</th>\n",
       "      <th>Age</th>\n",
       "      <th>Tenure</th>\n",
       "      <th>Balance</th>\n",
       "      <th>NumOfProducts</th>\n",
       "      <th>HasCrCard</th>\n",
       "      <th>IsActiveMember</th>\n",
       "      <th>EstimatedSalary</th>\n",
       "      <th>Gender_Male</th>\n",
       "      <th>Geography_Germany</th>\n",
       "      <th>Geography_Spain</th>\n",
       "    </tr>\n",
       "  </thead>\n",
       "  <tbody>\n",
       "    <tr>\n",
       "      <th>2694</th>\n",
       "      <td>628</td>\n",
       "      <td>29</td>\n",
       "      <td>3</td>\n",
       "      <td>113146.98</td>\n",
       "      <td>2</td>\n",
       "      <td>0</td>\n",
       "      <td>1</td>\n",
       "      <td>124749.08</td>\n",
       "      <td>True</td>\n",
       "      <td>True</td>\n",
       "      <td>False</td>\n",
       "    </tr>\n",
       "    <tr>\n",
       "      <th>5140</th>\n",
       "      <td>626</td>\n",
       "      <td>29</td>\n",
       "      <td>4</td>\n",
       "      <td>105767.28</td>\n",
       "      <td>2</td>\n",
       "      <td>0</td>\n",
       "      <td>0</td>\n",
       "      <td>41104.82</td>\n",
       "      <td>False</td>\n",
       "      <td>False</td>\n",
       "      <td>False</td>\n",
       "    </tr>\n",
       "    <tr>\n",
       "      <th>2568</th>\n",
       "      <td>612</td>\n",
       "      <td>47</td>\n",
       "      <td>6</td>\n",
       "      <td>130024.87</td>\n",
       "      <td>1</td>\n",
       "      <td>1</td>\n",
       "      <td>1</td>\n",
       "      <td>45750.21</td>\n",
       "      <td>False</td>\n",
       "      <td>True</td>\n",
       "      <td>False</td>\n",
       "    </tr>\n",
       "    <tr>\n",
       "      <th>3671</th>\n",
       "      <td>646</td>\n",
       "      <td>52</td>\n",
       "      <td>6</td>\n",
       "      <td>111739.40</td>\n",
       "      <td>2</td>\n",
       "      <td>0</td>\n",
       "      <td>1</td>\n",
       "      <td>68367.18</td>\n",
       "      <td>False</td>\n",
       "      <td>True</td>\n",
       "      <td>False</td>\n",
       "    </tr>\n",
       "    <tr>\n",
       "      <th>7427</th>\n",
       "      <td>714</td>\n",
       "      <td>33</td>\n",
       "      <td>8</td>\n",
       "      <td>122017.19</td>\n",
       "      <td>1</td>\n",
       "      <td>0</td>\n",
       "      <td>0</td>\n",
       "      <td>162515.17</td>\n",
       "      <td>True</td>\n",
       "      <td>False</td>\n",
       "      <td>True</td>\n",
       "    </tr>\n",
       "  </tbody>\n",
       "</table>\n",
       "</div>"
      ],
      "text/plain": [
       "      CreditScore  Age  Tenure    Balance  NumOfProducts  HasCrCard  \\\n",
       "2694          628   29       3  113146.98              2          0   \n",
       "5140          626   29       4  105767.28              2          0   \n",
       "2568          612   47       6  130024.87              1          1   \n",
       "3671          646   52       6  111739.40              2          0   \n",
       "7427          714   33       8  122017.19              1          0   \n",
       "\n",
       "      IsActiveMember  EstimatedSalary  Gender_Male  Geography_Germany  \\\n",
       "2694               1        124749.08         True               True   \n",
       "5140               0         41104.82        False              False   \n",
       "2568               1         45750.21        False               True   \n",
       "3671               1         68367.18        False               True   \n",
       "7427               0        162515.17         True              False   \n",
       "\n",
       "      Geography_Spain  \n",
       "2694            False  \n",
       "5140            False  \n",
       "2568            False  \n",
       "3671            False  \n",
       "7427             True  "
      ]
     },
     "execution_count": 50,
     "metadata": {},
     "output_type": "execute_result"
    }
   ],
   "source": [
    "X_train.head()"
   ]
  },
  {
   "cell_type": "markdown",
   "id": "46761cd6",
   "metadata": {},
   "source": [
    "### Scaling data"
   ]
  },
  {
   "cell_type": "code",
   "execution_count": 16,
   "id": "223dc902",
   "metadata": {},
   "outputs": [],
   "source": [
    "from sklearn.preprocessing import StandardScaler\n",
    "scaler=StandardScaler()\n",
    "X_train_scaled=scaler.fit_transform(X_train)\n",
    "X_test_scaled=scaler.transform(X_test)"
   ]
  },
  {
   "cell_type": "code",
   "execution_count": 17,
   "id": "5e8f1f8f",
   "metadata": {},
   "outputs": [
    {
     "data": {
      "text/plain": [
       "array([[-0.23082038, -0.94449979, -0.70174202, ...,  0.91509065,\n",
       "         1.71490137, -0.57273139],\n",
       "       [-0.25150912, -0.94449979, -0.35520275, ..., -1.09278791,\n",
       "        -0.58312392, -0.57273139],\n",
       "       [-0.3963303 ,  0.77498705,  0.33787579, ..., -1.09278791,\n",
       "         1.71490137, -0.57273139],\n",
       "       ...,\n",
       "       [ 0.22433188,  0.58393295,  1.3774936 , ..., -1.09278791,\n",
       "        -0.58312392, -0.57273139],\n",
       "       [ 0.13123255,  0.01077067,  1.03095433, ..., -1.09278791,\n",
       "        -0.58312392, -0.57273139],\n",
       "       [ 1.1656695 ,  0.29735181,  0.33787579, ...,  0.91509065,\n",
       "         1.71490137, -0.57273139]])"
      ]
     },
     "execution_count": 17,
     "metadata": {},
     "output_type": "execute_result"
    }
   ],
   "source": [
    "X_train_scaled"
   ]
  },
  {
   "cell_type": "markdown",
   "id": "46143a19",
   "metadata": {},
   "source": [
    "### Model Creation"
   ]
  },
  {
   "cell_type": "code",
   "execution_count": 18,
   "id": "f29a4e6d",
   "metadata": {},
   "outputs": [
    {
     "name": "stderr",
     "output_type": "stream",
     "text": [
      "2024-04-04 08:53:12.065895: I tensorflow/core/util/port.cc:113] oneDNN custom operations are on. You may see slightly different numerical results due to floating-point round-off errors from different computation orders. To turn them off, set the environment variable `TF_ENABLE_ONEDNN_OPTS=0`.\n",
      "2024-04-04 08:53:12.066405: I external/local_tsl/tsl/cuda/cudart_stub.cc:32] Could not find cuda drivers on your machine, GPU will not be used.\n",
      "2024-04-04 08:53:12.104747: I external/local_tsl/tsl/cuda/cudart_stub.cc:32] Could not find cuda drivers on your machine, GPU will not be used.\n",
      "2024-04-04 08:53:12.230985: I tensorflow/core/platform/cpu_feature_guard.cc:210] This TensorFlow binary is optimized to use available CPU instructions in performance-critical operations.\n",
      "To enable the following instructions: AVX2 AVX512F AVX512_VNNI FMA, in other operations, rebuild TensorFlow with the appropriate compiler flags.\n",
      "2024-04-04 08:53:13.069727: W tensorflow/compiler/tf2tensorrt/utils/py_utils.cc:38] TF-TRT Warning: Could not find TensorRT\n"
     ]
    }
   ],
   "source": [
    "# Import Library\n",
    "import numpy as np\n",
    "import pandas as pd\n",
    "import seaborn as sns\n",
    "import matplotlib.pyplot as plt\n",
    "from keras.models import Sequential\n",
    "from keras.layers import Dense"
   ]
  },
  {
   "cell_type": "code",
   "execution_count": 51,
   "id": "4beeeab0",
   "metadata": {},
   "outputs": [
    {
     "name": "stderr",
     "output_type": "stream",
     "text": [
      "/root/anaconda3/lib/python3.11/site-packages/keras/src/layers/core/dense.py:88: UserWarning: Do not pass an `input_shape`/`input_dim` argument to a layer. When using Sequential models, prefer using an `Input(shape)` object as the first layer in the model instead.\n",
      "  super().__init__(activity_regularizer=activity_regularizer, **kwargs)\n"
     ]
    },
    {
     "data": {
      "text/html": [
       "<pre style=\"white-space:pre;overflow-x:auto;line-height:normal;font-family:Menlo,'DejaVu Sans Mono',consolas,'Courier New',monospace\"><span style=\"font-weight: bold\">Model: \"sequential_1\"</span>\n",
       "</pre>\n"
      ],
      "text/plain": [
       "\u001b[1mModel: \"sequential_1\"\u001b[0m\n"
      ]
     },
     "metadata": {},
     "output_type": "display_data"
    },
    {
     "data": {
      "text/html": [
       "<pre style=\"white-space:pre;overflow-x:auto;line-height:normal;font-family:Menlo,'DejaVu Sans Mono',consolas,'Courier New',monospace\">┏━━━━━━━━━━━━━━━━━━━━━━━━━━━━━━━━━┳━━━━━━━━━━━━━━━━━━━━━━━━┳━━━━━━━━━━━━━━━┓\n",
       "┃<span style=\"font-weight: bold\"> Layer (type)                    </span>┃<span style=\"font-weight: bold\"> Output Shape           </span>┃<span style=\"font-weight: bold\">       Param # </span>┃\n",
       "┡━━━━━━━━━━━━━━━━━━━━━━━━━━━━━━━━━╇━━━━━━━━━━━━━━━━━━━━━━━━╇━━━━━━━━━━━━━━━┩\n",
       "│ dense_2 (<span style=\"color: #0087ff; text-decoration-color: #0087ff\">Dense</span>)                 │ (<span style=\"color: #00d7ff; text-decoration-color: #00d7ff\">None</span>, <span style=\"color: #00af00; text-decoration-color: #00af00\">3</span>)              │            <span style=\"color: #00af00; text-decoration-color: #00af00\">36</span> │\n",
       "├─────────────────────────────────┼────────────────────────┼───────────────┤\n",
       "│ dense_3 (<span style=\"color: #0087ff; text-decoration-color: #0087ff\">Dense</span>)                 │ (<span style=\"color: #00d7ff; text-decoration-color: #00d7ff\">None</span>, <span style=\"color: #00af00; text-decoration-color: #00af00\">1</span>)              │             <span style=\"color: #00af00; text-decoration-color: #00af00\">4</span> │\n",
       "└─────────────────────────────────┴────────────────────────┴───────────────┘\n",
       "</pre>\n"
      ],
      "text/plain": [
       "┏━━━━━━━━━━━━━━━━━━━━━━━━━━━━━━━━━┳━━━━━━━━━━━━━━━━━━━━━━━━┳━━━━━━━━━━━━━━━┓\n",
       "┃\u001b[1m \u001b[0m\u001b[1mLayer (type)                   \u001b[0m\u001b[1m \u001b[0m┃\u001b[1m \u001b[0m\u001b[1mOutput Shape          \u001b[0m\u001b[1m \u001b[0m┃\u001b[1m \u001b[0m\u001b[1m      Param #\u001b[0m\u001b[1m \u001b[0m┃\n",
       "┡━━━━━━━━━━━━━━━━━━━━━━━━━━━━━━━━━╇━━━━━━━━━━━━━━━━━━━━━━━━╇━━━━━━━━━━━━━━━┩\n",
       "│ dense_2 (\u001b[38;5;33mDense\u001b[0m)                 │ (\u001b[38;5;45mNone\u001b[0m, \u001b[38;5;34m3\u001b[0m)              │            \u001b[38;5;34m36\u001b[0m │\n",
       "├─────────────────────────────────┼────────────────────────┼───────────────┤\n",
       "│ dense_3 (\u001b[38;5;33mDense\u001b[0m)                 │ (\u001b[38;5;45mNone\u001b[0m, \u001b[38;5;34m1\u001b[0m)              │             \u001b[38;5;34m4\u001b[0m │\n",
       "└─────────────────────────────────┴────────────────────────┴───────────────┘\n"
      ]
     },
     "metadata": {},
     "output_type": "display_data"
    },
    {
     "data": {
      "text/html": [
       "<pre style=\"white-space:pre;overflow-x:auto;line-height:normal;font-family:Menlo,'DejaVu Sans Mono',consolas,'Courier New',monospace\"><span style=\"font-weight: bold\"> Total params: </span><span style=\"color: #00af00; text-decoration-color: #00af00\">40</span> (160.00 B)\n",
       "</pre>\n"
      ],
      "text/plain": [
       "\u001b[1m Total params: \u001b[0m\u001b[38;5;34m40\u001b[0m (160.00 B)\n"
      ]
     },
     "metadata": {},
     "output_type": "display_data"
    },
    {
     "data": {
      "text/html": [
       "<pre style=\"white-space:pre;overflow-x:auto;line-height:normal;font-family:Menlo,'DejaVu Sans Mono',consolas,'Courier New',monospace\"><span style=\"font-weight: bold\"> Trainable params: </span><span style=\"color: #00af00; text-decoration-color: #00af00\">40</span> (160.00 B)\n",
       "</pre>\n"
      ],
      "text/plain": [
       "\u001b[1m Trainable params: \u001b[0m\u001b[38;5;34m40\u001b[0m (160.00 B)\n"
      ]
     },
     "metadata": {},
     "output_type": "display_data"
    },
    {
     "data": {
      "text/html": [
       "<pre style=\"white-space:pre;overflow-x:auto;line-height:normal;font-family:Menlo,'DejaVu Sans Mono',consolas,'Courier New',monospace\"><span style=\"font-weight: bold\"> Non-trainable params: </span><span style=\"color: #00af00; text-decoration-color: #00af00\">0</span> (0.00 B)\n",
       "</pre>\n"
      ],
      "text/plain": [
       "\u001b[1m Non-trainable params: \u001b[0m\u001b[38;5;34m0\u001b[0m (0.00 B)\n"
      ]
     },
     "metadata": {},
     "output_type": "display_data"
    }
   ],
   "source": [
    "# Creating Model\n",
    "model=Sequential()\n",
    "model.add(Dense(units=3, input_dim=11, activation='sigmoid'))\n",
    "model.add(Dense(units=1,activation='sigmoid'))\n",
    "model.summary()"
   ]
  },
  {
   "cell_type": "code",
   "execution_count": 52,
   "id": "b7325244",
   "metadata": {},
   "outputs": [],
   "source": [
    "# Compiling model\n",
    "model.compile(loss='binary_crossentropy', optimizer='adam', metrics=['accuracy'])"
   ]
  },
  {
   "cell_type": "code",
   "execution_count": 53,
   "id": "2054e519",
   "metadata": {},
   "outputs": [
    {
     "name": "stdout",
     "output_type": "stream",
     "text": [
      "Epoch 1/100\n",
      "\u001b[1m200/200\u001b[0m \u001b[32m━━━━━━━━━━━━━━━━━━━━\u001b[0m\u001b[37m\u001b[0m \u001b[1m1s\u001b[0m 938us/step - accuracy: 0.2035 - loss: 0.8384 - val_accuracy: 0.4681 - val_loss: 0.7057\n",
      "Epoch 2/100\n",
      "\u001b[1m200/200\u001b[0m \u001b[32m━━━━━━━━━━━━━━━━━━━━\u001b[0m\u001b[37m\u001b[0m \u001b[1m0s\u001b[0m 576us/step - accuracy: 0.6149 - loss: 0.6735 - val_accuracy: 0.7975 - val_loss: 0.5972\n",
      "Epoch 3/100\n",
      "\u001b[1m200/200\u001b[0m \u001b[32m━━━━━━━━━━━━━━━━━━━━\u001b[0m\u001b[37m\u001b[0m \u001b[1m0s\u001b[0m 565us/step - accuracy: 0.7925 - loss: 0.5824 - val_accuracy: 0.7975 - val_loss: 0.5364\n",
      "Epoch 4/100\n",
      "\u001b[1m200/200\u001b[0m \u001b[32m━━━━━━━━━━━━━━━━━━━━\u001b[0m\u001b[37m\u001b[0m \u001b[1m0s\u001b[0m 557us/step - accuracy: 0.7932 - loss: 0.5287 - val_accuracy: 0.7975 - val_loss: 0.5038\n",
      "Epoch 5/100\n",
      "\u001b[1m200/200\u001b[0m \u001b[32m━━━━━━━━━━━━━━━━━━━━\u001b[0m\u001b[37m\u001b[0m \u001b[1m0s\u001b[0m 580us/step - accuracy: 0.7945 - loss: 0.4986 - val_accuracy: 0.7975 - val_loss: 0.4862\n",
      "Epoch 6/100\n",
      "\u001b[1m200/200\u001b[0m \u001b[32m━━━━━━━━━━━━━━━━━━━━\u001b[0m\u001b[37m\u001b[0m \u001b[1m0s\u001b[0m 561us/step - accuracy: 0.7962 - loss: 0.4847 - val_accuracy: 0.7975 - val_loss: 0.4756\n",
      "Epoch 7/100\n",
      "\u001b[1m200/200\u001b[0m \u001b[32m━━━━━━━━━━━━━━━━━━━━\u001b[0m\u001b[37m\u001b[0m \u001b[1m0s\u001b[0m 554us/step - accuracy: 0.8040 - loss: 0.4642 - val_accuracy: 0.7975 - val_loss: 0.4680\n",
      "Epoch 8/100\n",
      "\u001b[1m200/200\u001b[0m \u001b[32m━━━━━━━━━━━━━━━━━━━━\u001b[0m\u001b[37m\u001b[0m \u001b[1m0s\u001b[0m 581us/step - accuracy: 0.7977 - loss: 0.4639 - val_accuracy: 0.7975 - val_loss: 0.4621\n",
      "Epoch 9/100\n",
      "\u001b[1m200/200\u001b[0m \u001b[32m━━━━━━━━━━━━━━━━━━━━\u001b[0m\u001b[37m\u001b[0m \u001b[1m0s\u001b[0m 560us/step - accuracy: 0.8028 - loss: 0.4478 - val_accuracy: 0.7975 - val_loss: 0.4566\n",
      "Epoch 10/100\n",
      "\u001b[1m200/200\u001b[0m \u001b[32m━━━━━━━━━━━━━━━━━━━━\u001b[0m\u001b[37m\u001b[0m \u001b[1m0s\u001b[0m 558us/step - accuracy: 0.7989 - loss: 0.4513 - val_accuracy: 0.7975 - val_loss: 0.4516\n",
      "Epoch 11/100\n",
      "\u001b[1m200/200\u001b[0m \u001b[32m━━━━━━━━━━━━━━━━━━━━\u001b[0m\u001b[37m\u001b[0m \u001b[1m0s\u001b[0m 553us/step - accuracy: 0.7994 - loss: 0.4430 - val_accuracy: 0.7975 - val_loss: 0.4468\n",
      "Epoch 12/100\n",
      "\u001b[1m200/200\u001b[0m \u001b[32m━━━━━━━━━━━━━━━━━━━━\u001b[0m\u001b[37m\u001b[0m \u001b[1m0s\u001b[0m 569us/step - accuracy: 0.8028 - loss: 0.4370 - val_accuracy: 0.7975 - val_loss: 0.4425\n",
      "Epoch 13/100\n",
      "\u001b[1m200/200\u001b[0m \u001b[32m━━━━━━━━━━━━━━━━━━━━\u001b[0m\u001b[37m\u001b[0m \u001b[1m0s\u001b[0m 548us/step - accuracy: 0.7940 - loss: 0.4395 - val_accuracy: 0.7975 - val_loss: 0.4386\n",
      "Epoch 14/100\n",
      "\u001b[1m200/200\u001b[0m \u001b[32m━━━━━━━━━━━━━━━━━━━━\u001b[0m\u001b[37m\u001b[0m \u001b[1m0s\u001b[0m 566us/step - accuracy: 0.7854 - loss: 0.4512 - val_accuracy: 0.7975 - val_loss: 0.4354\n",
      "Epoch 15/100\n",
      "\u001b[1m200/200\u001b[0m \u001b[32m━━━━━━━━━━━━━━━━━━━━\u001b[0m\u001b[37m\u001b[0m \u001b[1m0s\u001b[0m 566us/step - accuracy: 0.7956 - loss: 0.4329 - val_accuracy: 0.7975 - val_loss: 0.4327\n",
      "Epoch 16/100\n",
      "\u001b[1m200/200\u001b[0m \u001b[32m━━━━━━━━━━━━━━━━━━━━\u001b[0m\u001b[37m\u001b[0m \u001b[1m0s\u001b[0m 553us/step - accuracy: 0.7931 - loss: 0.4373 - val_accuracy: 0.7975 - val_loss: 0.4305\n",
      "Epoch 17/100\n",
      "\u001b[1m200/200\u001b[0m \u001b[32m━━━━━━━━━━━━━━━━━━━━\u001b[0m\u001b[37m\u001b[0m \u001b[1m0s\u001b[0m 572us/step - accuracy: 0.7985 - loss: 0.4274 - val_accuracy: 0.7975 - val_loss: 0.4285\n",
      "Epoch 18/100\n",
      "\u001b[1m200/200\u001b[0m \u001b[32m━━━━━━━━━━━━━━━━━━━━\u001b[0m\u001b[37m\u001b[0m \u001b[1m0s\u001b[0m 555us/step - accuracy: 0.7988 - loss: 0.4242 - val_accuracy: 0.8094 - val_loss: 0.4269\n",
      "Epoch 19/100\n",
      "\u001b[1m200/200\u001b[0m \u001b[32m━━━━━━━━━━━━━━━━━━━━\u001b[0m\u001b[37m\u001b[0m \u001b[1m0s\u001b[0m 561us/step - accuracy: 0.8098 - loss: 0.4248 - val_accuracy: 0.8163 - val_loss: 0.4256\n",
      "Epoch 20/100\n",
      "\u001b[1m200/200\u001b[0m \u001b[32m━━━━━━━━━━━━━━━━━━━━\u001b[0m\u001b[37m\u001b[0m \u001b[1m0s\u001b[0m 557us/step - accuracy: 0.8156 - loss: 0.4193 - val_accuracy: 0.8188 - val_loss: 0.4242\n",
      "Epoch 21/100\n",
      "\u001b[1m200/200\u001b[0m \u001b[32m━━━━━━━━━━━━━━━━━━━━\u001b[0m\u001b[37m\u001b[0m \u001b[1m0s\u001b[0m 555us/step - accuracy: 0.8234 - loss: 0.4088 - val_accuracy: 0.8200 - val_loss: 0.4232\n",
      "Epoch 22/100\n",
      "\u001b[1m200/200\u001b[0m \u001b[32m━━━━━━━━━━━━━━━━━━━━\u001b[0m\u001b[37m\u001b[0m \u001b[1m0s\u001b[0m 613us/step - accuracy: 0.8211 - loss: 0.4191 - val_accuracy: 0.8194 - val_loss: 0.4222\n",
      "Epoch 23/100\n",
      "\u001b[1m200/200\u001b[0m \u001b[32m━━━━━━━━━━━━━━━━━━━━\u001b[0m\u001b[37m\u001b[0m \u001b[1m0s\u001b[0m 561us/step - accuracy: 0.8216 - loss: 0.4200 - val_accuracy: 0.8188 - val_loss: 0.4214\n",
      "Epoch 24/100\n",
      "\u001b[1m200/200\u001b[0m \u001b[32m━━━━━━━━━━━━━━━━━━━━\u001b[0m\u001b[37m\u001b[0m \u001b[1m0s\u001b[0m 555us/step - accuracy: 0.8252 - loss: 0.4141 - val_accuracy: 0.8200 - val_loss: 0.4205\n",
      "Epoch 25/100\n",
      "\u001b[1m200/200\u001b[0m \u001b[32m━━━━━━━━━━━━━━━━━━━━\u001b[0m\u001b[37m\u001b[0m \u001b[1m0s\u001b[0m 553us/step - accuracy: 0.8200 - loss: 0.4143 - val_accuracy: 0.8200 - val_loss: 0.4198\n",
      "Epoch 26/100\n",
      "\u001b[1m200/200\u001b[0m \u001b[32m━━━━━━━━━━━━━━━━━━━━\u001b[0m\u001b[37m\u001b[0m \u001b[1m0s\u001b[0m 571us/step - accuracy: 0.8283 - loss: 0.4114 - val_accuracy: 0.8213 - val_loss: 0.4191\n",
      "Epoch 27/100\n",
      "\u001b[1m200/200\u001b[0m \u001b[32m━━━━━━━━━━━━━━━━━━━━\u001b[0m\u001b[37m\u001b[0m \u001b[1m0s\u001b[0m 575us/step - accuracy: 0.8246 - loss: 0.4084 - val_accuracy: 0.8206 - val_loss: 0.4184\n",
      "Epoch 28/100\n",
      "\u001b[1m200/200\u001b[0m \u001b[32m━━━━━━━━━━━━━━━━━━━━\u001b[0m\u001b[37m\u001b[0m \u001b[1m0s\u001b[0m 546us/step - accuracy: 0.8258 - loss: 0.4156 - val_accuracy: 0.8231 - val_loss: 0.4178\n",
      "Epoch 29/100\n",
      "\u001b[1m200/200\u001b[0m \u001b[32m━━━━━━━━━━━━━━━━━━━━\u001b[0m\u001b[37m\u001b[0m \u001b[1m0s\u001b[0m 545us/step - accuracy: 0.8298 - loss: 0.4106 - val_accuracy: 0.8231 - val_loss: 0.4172\n",
      "Epoch 30/100\n",
      "\u001b[1m200/200\u001b[0m \u001b[32m━━━━━━━━━━━━━━━━━━━━\u001b[0m\u001b[37m\u001b[0m \u001b[1m0s\u001b[0m 554us/step - accuracy: 0.8286 - loss: 0.4159 - val_accuracy: 0.8231 - val_loss: 0.4167\n",
      "Epoch 31/100\n",
      "\u001b[1m200/200\u001b[0m \u001b[32m━━━━━━━━━━━━━━━━━━━━\u001b[0m\u001b[37m\u001b[0m \u001b[1m0s\u001b[0m 580us/step - accuracy: 0.8233 - loss: 0.4122 - val_accuracy: 0.8244 - val_loss: 0.4161\n",
      "Epoch 32/100\n",
      "\u001b[1m200/200\u001b[0m \u001b[32m━━━━━━━━━━━━━━━━━━━━\u001b[0m\u001b[37m\u001b[0m \u001b[1m0s\u001b[0m 558us/step - accuracy: 0.8349 - loss: 0.3997 - val_accuracy: 0.8256 - val_loss: 0.4156\n",
      "Epoch 33/100\n",
      "\u001b[1m200/200\u001b[0m \u001b[32m━━━━━━━━━━━━━━━━━━━━\u001b[0m\u001b[37m\u001b[0m \u001b[1m0s\u001b[0m 554us/step - accuracy: 0.8278 - loss: 0.4148 - val_accuracy: 0.8250 - val_loss: 0.4152\n",
      "Epoch 34/100\n",
      "\u001b[1m200/200\u001b[0m \u001b[32m━━━━━━━━━━━━━━━━━━━━\u001b[0m\u001b[37m\u001b[0m \u001b[1m0s\u001b[0m 555us/step - accuracy: 0.8320 - loss: 0.4077 - val_accuracy: 0.8250 - val_loss: 0.4148\n",
      "Epoch 35/100\n",
      "\u001b[1m200/200\u001b[0m \u001b[32m━━━━━━━━━━━━━━━━━━━━\u001b[0m\u001b[37m\u001b[0m \u001b[1m0s\u001b[0m 567us/step - accuracy: 0.8329 - loss: 0.4066 - val_accuracy: 0.8238 - val_loss: 0.4143\n",
      "Epoch 36/100\n",
      "\u001b[1m200/200\u001b[0m \u001b[32m━━━━━━━━━━━━━━━━━━━━\u001b[0m\u001b[37m\u001b[0m \u001b[1m0s\u001b[0m 559us/step - accuracy: 0.8368 - loss: 0.4030 - val_accuracy: 0.8238 - val_loss: 0.4139\n",
      "Epoch 37/100\n",
      "\u001b[1m200/200\u001b[0m \u001b[32m━━━━━━━━━━━━━━━━━━━━\u001b[0m\u001b[37m\u001b[0m \u001b[1m0s\u001b[0m 564us/step - accuracy: 0.8278 - loss: 0.4144 - val_accuracy: 0.8238 - val_loss: 0.4135\n",
      "Epoch 38/100\n",
      "\u001b[1m200/200\u001b[0m \u001b[32m━━━━━━━━━━━━━━━━━━━━\u001b[0m\u001b[37m\u001b[0m \u001b[1m0s\u001b[0m 560us/step - accuracy: 0.8333 - loss: 0.4034 - val_accuracy: 0.8225 - val_loss: 0.4130\n",
      "Epoch 39/100\n",
      "\u001b[1m200/200\u001b[0m \u001b[32m━━━━━━━━━━━━━━━━━━━━\u001b[0m\u001b[37m\u001b[0m \u001b[1m0s\u001b[0m 568us/step - accuracy: 0.8312 - loss: 0.4055 - val_accuracy: 0.8238 - val_loss: 0.4126\n",
      "Epoch 40/100\n",
      "\u001b[1m200/200\u001b[0m \u001b[32m━━━━━━━━━━━━━━━━━━━━\u001b[0m\u001b[37m\u001b[0m \u001b[1m0s\u001b[0m 548us/step - accuracy: 0.8327 - loss: 0.4080 - val_accuracy: 0.8244 - val_loss: 0.4121\n",
      "Epoch 41/100\n",
      "\u001b[1m200/200\u001b[0m \u001b[32m━━━━━━━━━━━━━━━━━━━━\u001b[0m\u001b[37m\u001b[0m \u001b[1m0s\u001b[0m 557us/step - accuracy: 0.8331 - loss: 0.4077 - val_accuracy: 0.8238 - val_loss: 0.4116\n",
      "Epoch 42/100\n",
      "\u001b[1m200/200\u001b[0m \u001b[32m━━━━━━━━━━━━━━━━━━━━\u001b[0m\u001b[37m\u001b[0m \u001b[1m0s\u001b[0m 579us/step - accuracy: 0.8277 - loss: 0.4109 - val_accuracy: 0.8238 - val_loss: 0.4110\n",
      "Epoch 43/100\n",
      "\u001b[1m200/200\u001b[0m \u001b[32m━━━━━━━━━━━━━━━━━━━━\u001b[0m\u001b[37m\u001b[0m \u001b[1m0s\u001b[0m 552us/step - accuracy: 0.8395 - loss: 0.3982 - val_accuracy: 0.8244 - val_loss: 0.4101\n",
      "Epoch 44/100\n",
      "\u001b[1m200/200\u001b[0m \u001b[32m━━━━━━━━━━━━━━━━━━━━\u001b[0m\u001b[37m\u001b[0m \u001b[1m0s\u001b[0m 549us/step - accuracy: 0.8330 - loss: 0.4003 - val_accuracy: 0.8244 - val_loss: 0.4093\n",
      "Epoch 45/100\n",
      "\u001b[1m200/200\u001b[0m \u001b[32m━━━━━━━━━━━━━━━━━━━━\u001b[0m\u001b[37m\u001b[0m \u001b[1m0s\u001b[0m 554us/step - accuracy: 0.8368 - loss: 0.4020 - val_accuracy: 0.8238 - val_loss: 0.4084\n",
      "Epoch 46/100\n",
      "\u001b[1m200/200\u001b[0m \u001b[32m━━━━━━━━━━━━━━━━━━━━\u001b[0m\u001b[37m\u001b[0m \u001b[1m0s\u001b[0m 556us/step - accuracy: 0.8484 - loss: 0.3891 - val_accuracy: 0.8238 - val_loss: 0.4073\n",
      "Epoch 47/100\n",
      "\u001b[1m200/200\u001b[0m \u001b[32m━━━━━━━━━━━━━━━━━━━━\u001b[0m\u001b[37m\u001b[0m \u001b[1m0s\u001b[0m 548us/step - accuracy: 0.8395 - loss: 0.3990 - val_accuracy: 0.8238 - val_loss: 0.4063\n",
      "Epoch 48/100\n",
      "\u001b[1m200/200\u001b[0m \u001b[32m━━━━━━━━━━━━━━━━━━━━\u001b[0m\u001b[37m\u001b[0m \u001b[1m0s\u001b[0m 569us/step - accuracy: 0.8436 - loss: 0.3952 - val_accuracy: 0.8238 - val_loss: 0.4052\n",
      "Epoch 49/100\n",
      "\u001b[1m200/200\u001b[0m \u001b[32m━━━━━━━━━━━━━━━━━━━━\u001b[0m\u001b[37m\u001b[0m \u001b[1m0s\u001b[0m 574us/step - accuracy: 0.8381 - loss: 0.4012 - val_accuracy: 0.8250 - val_loss: 0.4041\n",
      "Epoch 50/100\n"
     ]
    },
    {
     "name": "stdout",
     "output_type": "stream",
     "text": [
      "\u001b[1m200/200\u001b[0m \u001b[32m━━━━━━━━━━━━━━━━━━━━\u001b[0m\u001b[37m\u001b[0m \u001b[1m0s\u001b[0m 555us/step - accuracy: 0.8394 - loss: 0.4067 - val_accuracy: 0.8256 - val_loss: 0.4029\n",
      "Epoch 51/100\n",
      "\u001b[1m200/200\u001b[0m \u001b[32m━━━━━━━━━━━━━━━━━━━━\u001b[0m\u001b[37m\u001b[0m \u001b[1m0s\u001b[0m 582us/step - accuracy: 0.8396 - loss: 0.4047 - val_accuracy: 0.8256 - val_loss: 0.4018\n",
      "Epoch 52/100\n",
      "\u001b[1m200/200\u001b[0m \u001b[32m━━━━━━━━━━━━━━━━━━━━\u001b[0m\u001b[37m\u001b[0m \u001b[1m0s\u001b[0m 559us/step - accuracy: 0.8392 - loss: 0.3948 - val_accuracy: 0.8275 - val_loss: 0.4008\n",
      "Epoch 53/100\n",
      "\u001b[1m200/200\u001b[0m \u001b[32m━━━━━━━━━━━━━━━━━━━━\u001b[0m\u001b[37m\u001b[0m \u001b[1m0s\u001b[0m 557us/step - accuracy: 0.8321 - loss: 0.4086 - val_accuracy: 0.8281 - val_loss: 0.3999\n",
      "Epoch 54/100\n",
      "\u001b[1m200/200\u001b[0m \u001b[32m━━━━━━━━━━━━━━━━━━━━\u001b[0m\u001b[37m\u001b[0m \u001b[1m0s\u001b[0m 556us/step - accuracy: 0.8456 - loss: 0.3853 - val_accuracy: 0.8300 - val_loss: 0.3988\n",
      "Epoch 55/100\n",
      "\u001b[1m200/200\u001b[0m \u001b[32m━━━━━━━━━━━━━━━━━━━━\u001b[0m\u001b[37m\u001b[0m \u001b[1m0s\u001b[0m 561us/step - accuracy: 0.8342 - loss: 0.4032 - val_accuracy: 0.8306 - val_loss: 0.3979\n",
      "Epoch 56/100\n",
      "\u001b[1m200/200\u001b[0m \u001b[32m━━━━━━━━━━━━━━━━━━━━\u001b[0m\u001b[37m\u001b[0m \u001b[1m0s\u001b[0m 561us/step - accuracy: 0.8503 - loss: 0.3886 - val_accuracy: 0.8313 - val_loss: 0.3971\n",
      "Epoch 57/100\n",
      "\u001b[1m200/200\u001b[0m \u001b[32m━━━━━━━━━━━━━━━━━━━━\u001b[0m\u001b[37m\u001b[0m \u001b[1m0s\u001b[0m 551us/step - accuracy: 0.8439 - loss: 0.3882 - val_accuracy: 0.8325 - val_loss: 0.3962\n",
      "Epoch 58/100\n",
      "\u001b[1m200/200\u001b[0m \u001b[32m━━━━━━━━━━━━━━━━━━━━\u001b[0m\u001b[37m\u001b[0m \u001b[1m0s\u001b[0m 585us/step - accuracy: 0.8433 - loss: 0.3922 - val_accuracy: 0.8331 - val_loss: 0.3954\n",
      "Epoch 59/100\n",
      "\u001b[1m200/200\u001b[0m \u001b[32m━━━━━━━━━━━━━━━━━━━━\u001b[0m\u001b[37m\u001b[0m \u001b[1m0s\u001b[0m 560us/step - accuracy: 0.8474 - loss: 0.3835 - val_accuracy: 0.8350 - val_loss: 0.3945\n",
      "Epoch 60/100\n",
      "\u001b[1m200/200\u001b[0m \u001b[32m━━━━━━━━━━━━━━━━━━━━\u001b[0m\u001b[37m\u001b[0m \u001b[1m0s\u001b[0m 552us/step - accuracy: 0.8405 - loss: 0.3866 - val_accuracy: 0.8344 - val_loss: 0.3938\n",
      "Epoch 61/100\n",
      "\u001b[1m200/200\u001b[0m \u001b[32m━━━━━━━━━━━━━━━━━━━━\u001b[0m\u001b[37m\u001b[0m \u001b[1m0s\u001b[0m 550us/step - accuracy: 0.8400 - loss: 0.3935 - val_accuracy: 0.8344 - val_loss: 0.3930\n",
      "Epoch 62/100\n",
      "\u001b[1m200/200\u001b[0m \u001b[32m━━━━━━━━━━━━━━━━━━━━\u001b[0m\u001b[37m\u001b[0m \u001b[1m0s\u001b[0m 544us/step - accuracy: 0.8485 - loss: 0.3795 - val_accuracy: 0.8356 - val_loss: 0.3923\n",
      "Epoch 63/100\n",
      "\u001b[1m200/200\u001b[0m \u001b[32m━━━━━━━━━━━━━━━━━━━━\u001b[0m\u001b[37m\u001b[0m \u001b[1m0s\u001b[0m 555us/step - accuracy: 0.8458 - loss: 0.3806 - val_accuracy: 0.8363 - val_loss: 0.3917\n",
      "Epoch 64/100\n",
      "\u001b[1m200/200\u001b[0m \u001b[32m━━━━━━━━━━━━━━━━━━━━\u001b[0m\u001b[37m\u001b[0m \u001b[1m0s\u001b[0m 560us/step - accuracy: 0.8490 - loss: 0.3761 - val_accuracy: 0.8344 - val_loss: 0.3908\n",
      "Epoch 65/100\n",
      "\u001b[1m200/200\u001b[0m \u001b[32m━━━━━━━━━━━━━━━━━━━━\u001b[0m\u001b[37m\u001b[0m \u001b[1m0s\u001b[0m 556us/step - accuracy: 0.8449 - loss: 0.3813 - val_accuracy: 0.8363 - val_loss: 0.3903\n",
      "Epoch 66/100\n",
      "\u001b[1m200/200\u001b[0m \u001b[32m━━━━━━━━━━━━━━━━━━━━\u001b[0m\u001b[37m\u001b[0m \u001b[1m0s\u001b[0m 555us/step - accuracy: 0.8489 - loss: 0.3793 - val_accuracy: 0.8356 - val_loss: 0.3897\n",
      "Epoch 67/100\n",
      "\u001b[1m200/200\u001b[0m \u001b[32m━━━━━━━━━━━━━━━━━━━━\u001b[0m\u001b[37m\u001b[0m \u001b[1m0s\u001b[0m 551us/step - accuracy: 0.8448 - loss: 0.3925 - val_accuracy: 0.8363 - val_loss: 0.3890\n",
      "Epoch 68/100\n",
      "\u001b[1m200/200\u001b[0m \u001b[32m━━━━━━━━━━━━━━━━━━━━\u001b[0m\u001b[37m\u001b[0m \u001b[1m0s\u001b[0m 562us/step - accuracy: 0.8427 - loss: 0.3872 - val_accuracy: 0.8363 - val_loss: 0.3885\n",
      "Epoch 69/100\n",
      "\u001b[1m200/200\u001b[0m \u001b[32m━━━━━━━━━━━━━━━━━━━━\u001b[0m\u001b[37m\u001b[0m \u001b[1m0s\u001b[0m 556us/step - accuracy: 0.8400 - loss: 0.3981 - val_accuracy: 0.8363 - val_loss: 0.3879\n",
      "Epoch 70/100\n",
      "\u001b[1m200/200\u001b[0m \u001b[32m━━━━━━━━━━━━━━━━━━━━\u001b[0m\u001b[37m\u001b[0m \u001b[1m0s\u001b[0m 597us/step - accuracy: 0.8356 - loss: 0.4038 - val_accuracy: 0.8369 - val_loss: 0.3875\n",
      "Epoch 71/100\n",
      "\u001b[1m200/200\u001b[0m \u001b[32m━━━━━━━━━━━━━━━━━━━━\u001b[0m\u001b[37m\u001b[0m \u001b[1m0s\u001b[0m 573us/step - accuracy: 0.8465 - loss: 0.3809 - val_accuracy: 0.8363 - val_loss: 0.3868\n",
      "Epoch 72/100\n",
      "\u001b[1m200/200\u001b[0m \u001b[32m━━━━━━━━━━━━━━━━━━━━\u001b[0m\u001b[37m\u001b[0m \u001b[1m0s\u001b[0m 556us/step - accuracy: 0.8391 - loss: 0.3886 - val_accuracy: 0.8369 - val_loss: 0.3865\n",
      "Epoch 73/100\n",
      "\u001b[1m200/200\u001b[0m \u001b[32m━━━━━━━━━━━━━━━━━━━━\u001b[0m\u001b[37m\u001b[0m \u001b[1m0s\u001b[0m 568us/step - accuracy: 0.8430 - loss: 0.3808 - val_accuracy: 0.8369 - val_loss: 0.3859\n",
      "Epoch 74/100\n",
      "\u001b[1m200/200\u001b[0m \u001b[32m━━━━━━━━━━━━━━━━━━━━\u001b[0m\u001b[37m\u001b[0m \u001b[1m0s\u001b[0m 555us/step - accuracy: 0.8409 - loss: 0.3843 - val_accuracy: 0.8369 - val_loss: 0.3855\n",
      "Epoch 75/100\n",
      "\u001b[1m200/200\u001b[0m \u001b[32m━━━━━━━━━━━━━━━━━━━━\u001b[0m\u001b[37m\u001b[0m \u001b[1m0s\u001b[0m 557us/step - accuracy: 0.8482 - loss: 0.3761 - val_accuracy: 0.8381 - val_loss: 0.3850\n",
      "Epoch 76/100\n",
      "\u001b[1m200/200\u001b[0m \u001b[32m━━━━━━━━━━━━━━━━━━━━\u001b[0m\u001b[37m\u001b[0m \u001b[1m0s\u001b[0m 540us/step - accuracy: 0.8442 - loss: 0.3764 - val_accuracy: 0.8381 - val_loss: 0.3845\n",
      "Epoch 77/100\n",
      "\u001b[1m200/200\u001b[0m \u001b[32m━━━━━━━━━━━━━━━━━━━━\u001b[0m\u001b[37m\u001b[0m \u001b[1m0s\u001b[0m 548us/step - accuracy: 0.8495 - loss: 0.3746 - val_accuracy: 0.8350 - val_loss: 0.3842\n",
      "Epoch 78/100\n",
      "\u001b[1m200/200\u001b[0m \u001b[32m━━━━━━━━━━━━━━━━━━━━\u001b[0m\u001b[37m\u001b[0m \u001b[1m0s\u001b[0m 567us/step - accuracy: 0.8491 - loss: 0.3757 - val_accuracy: 0.8350 - val_loss: 0.3836\n",
      "Epoch 79/100\n",
      "\u001b[1m200/200\u001b[0m \u001b[32m━━━━━━━━━━━━━━━━━━━━\u001b[0m\u001b[37m\u001b[0m \u001b[1m0s\u001b[0m 560us/step - accuracy: 0.8407 - loss: 0.3930 - val_accuracy: 0.8375 - val_loss: 0.3834\n",
      "Epoch 80/100\n",
      "\u001b[1m200/200\u001b[0m \u001b[32m━━━━━━━━━━━━━━━━━━━━\u001b[0m\u001b[37m\u001b[0m \u001b[1m0s\u001b[0m 571us/step - accuracy: 0.8385 - loss: 0.3893 - val_accuracy: 0.8369 - val_loss: 0.3831\n",
      "Epoch 81/100\n",
      "\u001b[1m200/200\u001b[0m \u001b[32m━━━━━━━━━━━━━━━━━━━━\u001b[0m\u001b[37m\u001b[0m \u001b[1m0s\u001b[0m 555us/step - accuracy: 0.8403 - loss: 0.3819 - val_accuracy: 0.8375 - val_loss: 0.3827\n",
      "Epoch 82/100\n",
      "\u001b[1m200/200\u001b[0m \u001b[32m━━━━━━━━━━━━━━━━━━━━\u001b[0m\u001b[37m\u001b[0m \u001b[1m0s\u001b[0m 556us/step - accuracy: 0.8415 - loss: 0.3843 - val_accuracy: 0.8363 - val_loss: 0.3821\n",
      "Epoch 83/100\n",
      "\u001b[1m200/200\u001b[0m \u001b[32m━━━━━━━━━━━━━━━━━━━━\u001b[0m\u001b[37m\u001b[0m \u001b[1m0s\u001b[0m 560us/step - accuracy: 0.8472 - loss: 0.3791 - val_accuracy: 0.8356 - val_loss: 0.3818\n",
      "Epoch 84/100\n",
      "\u001b[1m200/200\u001b[0m \u001b[32m━━━━━━━━━━━━━━━━━━━━\u001b[0m\u001b[37m\u001b[0m \u001b[1m0s\u001b[0m 549us/step - accuracy: 0.8473 - loss: 0.3786 - val_accuracy: 0.8356 - val_loss: 0.3815\n",
      "Epoch 85/100\n",
      "\u001b[1m200/200\u001b[0m \u001b[32m━━━━━━━━━━━━━━━━━━━━\u001b[0m\u001b[37m\u001b[0m \u001b[1m0s\u001b[0m 556us/step - accuracy: 0.8420 - loss: 0.3886 - val_accuracy: 0.8363 - val_loss: 0.3812\n",
      "Epoch 86/100\n",
      "\u001b[1m200/200\u001b[0m \u001b[32m━━━━━━━━━━━━━━━━━━━━\u001b[0m\u001b[37m\u001b[0m \u001b[1m0s\u001b[0m 575us/step - accuracy: 0.8481 - loss: 0.3782 - val_accuracy: 0.8363 - val_loss: 0.3809\n",
      "Epoch 87/100\n",
      "\u001b[1m200/200\u001b[0m \u001b[32m━━━━━━━━━━━━━━━━━━━━\u001b[0m\u001b[37m\u001b[0m \u001b[1m0s\u001b[0m 585us/step - accuracy: 0.8496 - loss: 0.3719 - val_accuracy: 0.8363 - val_loss: 0.3805\n",
      "Epoch 88/100\n",
      "\u001b[1m200/200\u001b[0m \u001b[32m━━━━━━━━━━━━━━━━━━━━\u001b[0m\u001b[37m\u001b[0m \u001b[1m0s\u001b[0m 571us/step - accuracy: 0.8445 - loss: 0.3873 - val_accuracy: 0.8375 - val_loss: 0.3802\n",
      "Epoch 89/100\n",
      "\u001b[1m200/200\u001b[0m \u001b[32m━━━━━━━━━━━━━━━━━━━━\u001b[0m\u001b[37m\u001b[0m \u001b[1m0s\u001b[0m 579us/step - accuracy: 0.8394 - loss: 0.3875 - val_accuracy: 0.8381 - val_loss: 0.3800\n",
      "Epoch 90/100\n",
      "\u001b[1m200/200\u001b[0m \u001b[32m━━━━━━━━━━━━━━━━━━━━\u001b[0m\u001b[37m\u001b[0m \u001b[1m0s\u001b[0m 565us/step - accuracy: 0.8488 - loss: 0.3788 - val_accuracy: 0.8375 - val_loss: 0.3795\n",
      "Epoch 91/100\n",
      "\u001b[1m200/200\u001b[0m \u001b[32m━━━━━━━━━━━━━━━━━━━━\u001b[0m\u001b[37m\u001b[0m \u001b[1m0s\u001b[0m 568us/step - accuracy: 0.8530 - loss: 0.3701 - val_accuracy: 0.8388 - val_loss: 0.3792\n",
      "Epoch 92/100\n",
      "\u001b[1m200/200\u001b[0m \u001b[32m━━━━━━━━━━━━━━━━━━━━\u001b[0m\u001b[37m\u001b[0m \u001b[1m0s\u001b[0m 567us/step - accuracy: 0.8465 - loss: 0.3807 - val_accuracy: 0.8394 - val_loss: 0.3790\n",
      "Epoch 93/100\n",
      "\u001b[1m200/200\u001b[0m \u001b[32m━━━━━━━━━━━━━━━━━━━━\u001b[0m\u001b[37m\u001b[0m \u001b[1m0s\u001b[0m 574us/step - accuracy: 0.8423 - loss: 0.3818 - val_accuracy: 0.8394 - val_loss: 0.3786\n",
      "Epoch 94/100\n",
      "\u001b[1m200/200\u001b[0m \u001b[32m━━━━━━━━━━━━━━━━━━━━\u001b[0m\u001b[37m\u001b[0m \u001b[1m0s\u001b[0m 570us/step - accuracy: 0.8419 - loss: 0.3869 - val_accuracy: 0.8394 - val_loss: 0.3784\n",
      "Epoch 95/100\n",
      "\u001b[1m200/200\u001b[0m \u001b[32m━━━━━━━━━━━━━━━━━━━━\u001b[0m\u001b[37m\u001b[0m \u001b[1m0s\u001b[0m 561us/step - accuracy: 0.8420 - loss: 0.3870 - val_accuracy: 0.8406 - val_loss: 0.3782\n",
      "Epoch 96/100\n",
      "\u001b[1m200/200\u001b[0m \u001b[32m━━━━━━━━━━━━━━━━━━━━\u001b[0m\u001b[37m\u001b[0m \u001b[1m0s\u001b[0m 572us/step - accuracy: 0.8442 - loss: 0.3753 - val_accuracy: 0.8381 - val_loss: 0.3777\n",
      "Epoch 97/100\n",
      "\u001b[1m200/200\u001b[0m \u001b[32m━━━━━━━━━━━━━━━━━━━━\u001b[0m\u001b[37m\u001b[0m \u001b[1m0s\u001b[0m 578us/step - accuracy: 0.8482 - loss: 0.3781 - val_accuracy: 0.8413 - val_loss: 0.3777\n",
      "Epoch 98/100\n",
      "\u001b[1m200/200\u001b[0m \u001b[32m━━━━━━━━━━━━━━━━━━━━\u001b[0m\u001b[37m\u001b[0m \u001b[1m0s\u001b[0m 566us/step - accuracy: 0.8523 - loss: 0.3697 - val_accuracy: 0.8413 - val_loss: 0.3773\n",
      "Epoch 99/100\n"
     ]
    },
    {
     "name": "stdout",
     "output_type": "stream",
     "text": [
      "\u001b[1m200/200\u001b[0m \u001b[32m━━━━━━━━━━━━━━━━━━━━\u001b[0m\u001b[37m\u001b[0m \u001b[1m0s\u001b[0m 576us/step - accuracy: 0.8457 - loss: 0.3767 - val_accuracy: 0.8413 - val_loss: 0.3771\n",
      "Epoch 100/100\n",
      "\u001b[1m200/200\u001b[0m \u001b[32m━━━━━━━━━━━━━━━━━━━━\u001b[0m\u001b[37m\u001b[0m \u001b[1m0s\u001b[0m 571us/step - accuracy: 0.8486 - loss: 0.3780 - val_accuracy: 0.8406 - val_loss: 0.3768\n"
     ]
    }
   ],
   "source": [
    "# Model training\n",
    "history=model.fit(X_train_scaled,y_train,epochs=100, verbose=1, validation_split=0.2)"
   ]
  },
  {
   "cell_type": "code",
   "execution_count": 54,
   "id": "aecd90d4",
   "metadata": {},
   "outputs": [
    {
     "data": {
      "text/plain": [
       "[array([[ 1.82240888e-01,  7.33036324e-02,  9.05341506e-02],\n",
       "        [-3.69915724e+00,  7.60633290e-01,  3.11126441e-01],\n",
       "        [ 1.16717415e-02,  1.70783550e-01, -5.13650179e-02],\n",
       "        [-1.96180671e-01,  9.18928504e-01,  4.55571502e-01],\n",
       "        [-7.31989920e-01,  3.89088225e+00,  9.45843935e-01],\n",
       "        [-5.68718016e-02,  2.08226934e-01, -5.12872338e-02],\n",
       "        [-7.29066372e-01,  5.13348937e-01, -1.67679238e+00],\n",
       "        [ 1.70185491e-01, -8.71189535e-02,  1.79186657e-01],\n",
       "        [-2.52887961e-02,  3.93214226e-02, -7.26919115e-01],\n",
       "        [-8.36854801e-03, -6.54801846e-01,  6.71766281e-01],\n",
       "        [ 2.76865764e-03,  2.66504347e-01,  3.22285742e-01]], dtype=float32),\n",
       " array([ 0.77591205,  1.5173066 , -0.70843256], dtype=float32)]"
      ]
     },
     "execution_count": 54,
     "metadata": {},
     "output_type": "execute_result"
    }
   ],
   "source": [
    "# Getting weights\n",
    "model.layers[0].get_weights()"
   ]
  },
  {
   "cell_type": "code",
   "execution_count": 55,
   "id": "a7c3112f",
   "metadata": {},
   "outputs": [
    {
     "data": {
      "text/plain": [
       "[array([[-2.6689131],\n",
       "        [-2.140859 ],\n",
       "        [ 2.3117983]], dtype=float32),\n",
       " array([0.19570783], dtype=float32)]"
      ]
     },
     "execution_count": 55,
     "metadata": {},
     "output_type": "execute_result"
    }
   ],
   "source": [
    "# Getting weights\n",
    "model.layers[1].get_weights()"
   ]
  },
  {
   "cell_type": "code",
   "execution_count": 56,
   "id": "e85fd49d",
   "metadata": {},
   "outputs": [
    {
     "name": "stdout",
     "output_type": "stream",
     "text": [
      "\u001b[1m63/63\u001b[0m \u001b[32m━━━━━━━━━━━━━━━━━━━━\u001b[0m\u001b[37m\u001b[0m \u001b[1m0s\u001b[0m 605us/step\n"
     ]
    }
   ],
   "source": [
    "# Prediction\n",
    "y_log=model.predict(X_test_scaled)"
   ]
  },
  {
   "cell_type": "code",
   "execution_count": 57,
   "id": "191b4a96",
   "metadata": {},
   "outputs": [],
   "source": [
    "y_pred=np.where(y_log>0.5,1,0)"
   ]
  },
  {
   "cell_type": "code",
   "execution_count": 58,
   "id": "6fbb55f5",
   "metadata": {},
   "outputs": [
    {
     "name": "stdout",
     "output_type": "stream",
     "text": [
      "Model Accuracy=0.8505\n"
     ]
    }
   ],
   "source": [
    "# Getting Accuracyaccuracy_score\n",
    "from sklearn.metrics import accuracy_score\n",
    "accuracy=accuracy_score(y_test, y_pred)\n",
    "print(f\"Model Accuracy={accuracy}\")"
   ]
  },
  {
   "cell_type": "code",
   "execution_count": 59,
   "id": "5451dfc8",
   "metadata": {},
   "outputs": [
    {
     "data": {
      "text/plain": [
       "{'accuracy': [0.2562499940395355,\n",
       "  0.7068750262260437,\n",
       "  0.7971875071525574,\n",
       "  0.7971875071525574,\n",
       "  0.7971875071525574,\n",
       "  0.7971875071525574,\n",
       "  0.7971875071525574,\n",
       "  0.7971875071525574,\n",
       "  0.7971875071525574,\n",
       "  0.7971875071525574,\n",
       "  0.7971875071525574,\n",
       "  0.7971875071525574,\n",
       "  0.7971875071525574,\n",
       "  0.7971875071525574,\n",
       "  0.7971875071525574,\n",
       "  0.7971875071525574,\n",
       "  0.7971875071525574,\n",
       "  0.801562488079071,\n",
       "  0.8128125071525574,\n",
       "  0.81640625,\n",
       "  0.8190624713897705,\n",
       "  0.8203125,\n",
       "  0.8237500190734863,\n",
       "  0.8232812285423279,\n",
       "  0.8239062428474426,\n",
       "  0.8243749737739563,\n",
       "  0.8267187476158142,\n",
       "  0.8268749713897705,\n",
       "  0.8287500143051147,\n",
       "  0.828906238079071,\n",
       "  0.8292187452316284,\n",
       "  0.8301562666893005,\n",
       "  0.8315625190734863,\n",
       "  0.8315625190734863,\n",
       "  0.8314062356948853,\n",
       "  0.83203125,\n",
       "  0.83203125,\n",
       "  0.832812488079071,\n",
       "  0.8324999809265137,\n",
       "  0.832812488079071,\n",
       "  0.8335937261581421,\n",
       "  0.8334375023841858,\n",
       "  0.8339062333106995,\n",
       "  0.8345312476158142,\n",
       "  0.8349999785423279,\n",
       "  0.8359375,\n",
       "  0.8362500071525574,\n",
       "  0.8371875286102295,\n",
       "  0.8379687666893005,\n",
       "  0.8387500047683716,\n",
       "  0.8385937213897705,\n",
       "  0.8392187356948853,\n",
       "  0.8399999737739563,\n",
       "  0.8396875262260437,\n",
       "  0.8401562571525574,\n",
       "  0.840624988079071,\n",
       "  0.8415625095367432,\n",
       "  0.8417187333106995,\n",
       "  0.8426562547683716,\n",
       "  0.8423437476158142,\n",
       "  0.8423437476158142,\n",
       "  0.8421875238418579,\n",
       "  0.842968761920929,\n",
       "  0.8426562547683716,\n",
       "  0.842968761920929,\n",
       "  0.8432812690734863,\n",
       "  0.84375,\n",
       "  0.8431249856948853,\n",
       "  0.8434374928474426,\n",
       "  0.842968761920929,\n",
       "  0.8434374928474426,\n",
       "  0.8434374928474426,\n",
       "  0.842968761920929,\n",
       "  0.8432812690734863,\n",
       "  0.8439062237739563,\n",
       "  0.8439062237739563,\n",
       "  0.8439062237739563,\n",
       "  0.8440625071525574,\n",
       "  0.844531238079071,\n",
       "  0.844531238079071,\n",
       "  0.8450000286102295,\n",
       "  0.8454687595367432,\n",
       "  0.8451562523841858,\n",
       "  0.8454687595367432,\n",
       "  0.846875011920929,\n",
       "  0.8457812666893005,\n",
       "  0.8454687595367432,\n",
       "  0.8462499976158142,\n",
       "  0.8464062213897705,\n",
       "  0.84765625,\n",
       "  0.8467187285423279,\n",
       "  0.846875011920929,\n",
       "  0.8475000262260437,\n",
       "  0.8465625047683716,\n",
       "  0.8479687571525574,\n",
       "  0.8482812643051147,\n",
       "  0.84765625,\n",
       "  0.8475000262260437,\n",
       "  0.8479687571525574,\n",
       "  0.848437488079071],\n",
       " 'loss': [0.7894113063812256,\n",
       "  0.6476823687553406,\n",
       "  0.564011812210083,\n",
       "  0.5181261897087097,\n",
       "  0.49359822273254395,\n",
       "  0.47943174839019775,\n",
       "  0.47017142176628113,\n",
       "  0.4631361663341522,\n",
       "  0.45717984437942505,\n",
       "  0.4517093598842621,\n",
       "  0.4465734362602234,\n",
       "  0.4417462646961212,\n",
       "  0.4374156892299652,\n",
       "  0.43364718556404114,\n",
       "  0.4304089844226837,\n",
       "  0.4277873635292053,\n",
       "  0.42555221915245056,\n",
       "  0.4237211346626282,\n",
       "  0.4221165180206299,\n",
       "  0.42076319456100464,\n",
       "  0.41960522532463074,\n",
       "  0.4184644818305969,\n",
       "  0.4174831509590149,\n",
       "  0.4166013300418854,\n",
       "  0.41581958532333374,\n",
       "  0.4150080978870392,\n",
       "  0.4143259823322296,\n",
       "  0.4136716425418854,\n",
       "  0.4130345284938812,\n",
       "  0.4125013053417206,\n",
       "  0.41189655661582947,\n",
       "  0.41141900420188904,\n",
       "  0.4109516143798828,\n",
       "  0.4104629456996918,\n",
       "  0.4100128412246704,\n",
       "  0.40957459807395935,\n",
       "  0.40918871760368347,\n",
       "  0.4087001383304596,\n",
       "  0.4082503616809845,\n",
       "  0.40775546431541443,\n",
       "  0.4072200655937195,\n",
       "  0.4066157639026642,\n",
       "  0.40588560700416565,\n",
       "  0.40513110160827637,\n",
       "  0.4042735993862152,\n",
       "  0.4033919870853424,\n",
       "  0.40238451957702637,\n",
       "  0.40132349729537964,\n",
       "  0.4002723693847656,\n",
       "  0.3992961049079895,\n",
       "  0.39827069640159607,\n",
       "  0.3972786068916321,\n",
       "  0.39628762006759644,\n",
       "  0.3954094350337982,\n",
       "  0.39454734325408936,\n",
       "  0.3937617838382721,\n",
       "  0.39290541410446167,\n",
       "  0.39208653569221497,\n",
       "  0.39135220646858215,\n",
       "  0.3906498849391937,\n",
       "  0.39000555872917175,\n",
       "  0.3893338739871979,\n",
       "  0.3887110948562622,\n",
       "  0.3881736099720001,\n",
       "  0.3875565826892853,\n",
       "  0.3870638608932495,\n",
       "  0.38652151823043823,\n",
       "  0.3860154449939728,\n",
       "  0.38550907373428345,\n",
       "  0.3851330280303955,\n",
       "  0.38461247086524963,\n",
       "  0.38420748710632324,\n",
       "  0.3838774561882019,\n",
       "  0.38340890407562256,\n",
       "  0.3830544352531433,\n",
       "  0.3827178478240967,\n",
       "  0.382416695356369,\n",
       "  0.38200297951698303,\n",
       "  0.3817020058631897,\n",
       "  0.3814060688018799,\n",
       "  0.3810853660106659,\n",
       "  0.3808095455169678,\n",
       "  0.3804602324962616,\n",
       "  0.3801960349082947,\n",
       "  0.37992915511131287,\n",
       "  0.37971732020378113,\n",
       "  0.3793725073337555,\n",
       "  0.3791564106941223,\n",
       "  0.37888413667678833,\n",
       "  0.3786730468273163,\n",
       "  0.3783581256866455,\n",
       "  0.3782024383544922,\n",
       "  0.3780190944671631,\n",
       "  0.37770724296569824,\n",
       "  0.3775351047515869,\n",
       "  0.37720805406570435,\n",
       "  0.37700411677360535,\n",
       "  0.3768157660961151,\n",
       "  0.3766137361526489,\n",
       "  0.37630459666252136],\n",
       " 'val_accuracy': [0.46812498569488525,\n",
       "  0.7975000143051147,\n",
       "  0.7975000143051147,\n",
       "  0.7975000143051147,\n",
       "  0.7975000143051147,\n",
       "  0.7975000143051147,\n",
       "  0.7975000143051147,\n",
       "  0.7975000143051147,\n",
       "  0.7975000143051147,\n",
       "  0.7975000143051147,\n",
       "  0.7975000143051147,\n",
       "  0.7975000143051147,\n",
       "  0.7975000143051147,\n",
       "  0.7975000143051147,\n",
       "  0.7975000143051147,\n",
       "  0.7975000143051147,\n",
       "  0.7975000143051147,\n",
       "  0.809374988079071,\n",
       "  0.8162500262260437,\n",
       "  0.8187500238418579,\n",
       "  0.8199999928474426,\n",
       "  0.8193749785423279,\n",
       "  0.8187500238418579,\n",
       "  0.8199999928474426,\n",
       "  0.8199999928474426,\n",
       "  0.8212500214576721,\n",
       "  0.8206250071525574,\n",
       "  0.8231250047683716,\n",
       "  0.8231250047683716,\n",
       "  0.8231250047683716,\n",
       "  0.8243749737739563,\n",
       "  0.8256250023841858,\n",
       "  0.824999988079071,\n",
       "  0.824999988079071,\n",
       "  0.8237500190734863,\n",
       "  0.8237500190734863,\n",
       "  0.8237500190734863,\n",
       "  0.8224999904632568,\n",
       "  0.8237500190734863,\n",
       "  0.8243749737739563,\n",
       "  0.8237500190734863,\n",
       "  0.8237500190734863,\n",
       "  0.8243749737739563,\n",
       "  0.8243749737739563,\n",
       "  0.8237500190734863,\n",
       "  0.8237500190734863,\n",
       "  0.8237500190734863,\n",
       "  0.8237500190734863,\n",
       "  0.824999988079071,\n",
       "  0.8256250023841858,\n",
       "  0.8256250023841858,\n",
       "  0.8274999856948853,\n",
       "  0.828125,\n",
       "  0.8299999833106995,\n",
       "  0.8306249976158142,\n",
       "  0.831250011920929,\n",
       "  0.8324999809265137,\n",
       "  0.8331249952316284,\n",
       "  0.8349999785423279,\n",
       "  0.8343750238418579,\n",
       "  0.8343750238418579,\n",
       "  0.8356249928474426,\n",
       "  0.8362500071525574,\n",
       "  0.8343750238418579,\n",
       "  0.8362500071525574,\n",
       "  0.8356249928474426,\n",
       "  0.8362500071525574,\n",
       "  0.8362500071525574,\n",
       "  0.8362500071525574,\n",
       "  0.8368750214576721,\n",
       "  0.8362500071525574,\n",
       "  0.8368750214576721,\n",
       "  0.8368750214576721,\n",
       "  0.8368750214576721,\n",
       "  0.8381249904632568,\n",
       "  0.8381249904632568,\n",
       "  0.8349999785423279,\n",
       "  0.8349999785423279,\n",
       "  0.8374999761581421,\n",
       "  0.8368750214576721,\n",
       "  0.8374999761581421,\n",
       "  0.8362500071525574,\n",
       "  0.8356249928474426,\n",
       "  0.8356249928474426,\n",
       "  0.8362500071525574,\n",
       "  0.8362500071525574,\n",
       "  0.8362500071525574,\n",
       "  0.8374999761581421,\n",
       "  0.8381249904632568,\n",
       "  0.8374999761581421,\n",
       "  0.8387500047683716,\n",
       "  0.8393750190734863,\n",
       "  0.8393750190734863,\n",
       "  0.8393750190734863,\n",
       "  0.840624988079071,\n",
       "  0.8381249904632568,\n",
       "  0.8412500023841858,\n",
       "  0.8412500023841858,\n",
       "  0.8412500023841858,\n",
       "  0.840624988079071],\n",
       " 'val_loss': [0.7056801319122314,\n",
       "  0.5972370505332947,\n",
       "  0.5363839864730835,\n",
       "  0.503792941570282,\n",
       "  0.48619967699050903,\n",
       "  0.47562435269355774,\n",
       "  0.4680353105068207,\n",
       "  0.4620930850505829,\n",
       "  0.4565976858139038,\n",
       "  0.4515586495399475,\n",
       "  0.44682347774505615,\n",
       "  0.44248077273368835,\n",
       "  0.43861761689186096,\n",
       "  0.43541836738586426,\n",
       "  0.43267887830734253,\n",
       "  0.43049338459968567,\n",
       "  0.428507536649704,\n",
       "  0.42692869901657104,\n",
       "  0.42557188868522644,\n",
       "  0.4242291748523712,\n",
       "  0.42319634556770325,\n",
       "  0.4222140610218048,\n",
       "  0.4213836193084717,\n",
       "  0.4204936623573303,\n",
       "  0.4197700619697571,\n",
       "  0.4190807342529297,\n",
       "  0.41843903064727783,\n",
       "  0.4177974462509155,\n",
       "  0.4171811640262604,\n",
       "  0.41669073700904846,\n",
       "  0.4160885214805603,\n",
       "  0.4156390130519867,\n",
       "  0.415182501077652,\n",
       "  0.4147705137729645,\n",
       "  0.4143330454826355,\n",
       "  0.41390323638916016,\n",
       "  0.4134756922721863,\n",
       "  0.41302037239074707,\n",
       "  0.4126051068305969,\n",
       "  0.41207340359687805,\n",
       "  0.4116174578666687,\n",
       "  0.410958856344223,\n",
       "  0.41010719537734985,\n",
       "  0.40928685665130615,\n",
       "  0.40836459398269653,\n",
       "  0.4073181450366974,\n",
       "  0.4063138961791992,\n",
       "  0.4051608145236969,\n",
       "  0.4040801227092743,\n",
       "  0.4029390215873718,\n",
       "  0.40180137753486633,\n",
       "  0.40083298087120056,\n",
       "  0.39990195631980896,\n",
       "  0.3987990617752075,\n",
       "  0.39791175723075867,\n",
       "  0.397118479013443,\n",
       "  0.39621925354003906,\n",
       "  0.3953752815723419,\n",
       "  0.39454543590545654,\n",
       "  0.3937670886516571,\n",
       "  0.3929625451564789,\n",
       "  0.3922947645187378,\n",
       "  0.39165881276130676,\n",
       "  0.39083367586135864,\n",
       "  0.39029988646507263,\n",
       "  0.3897092044353485,\n",
       "  0.38899093866348267,\n",
       "  0.3884616494178772,\n",
       "  0.38793662190437317,\n",
       "  0.38750189542770386,\n",
       "  0.3868352472782135,\n",
       "  0.38646817207336426,\n",
       "  0.38592109084129333,\n",
       "  0.3854670822620392,\n",
       "  0.38500651717185974,\n",
       "  0.3845243453979492,\n",
       "  0.3841644525527954,\n",
       "  0.38364937901496887,\n",
       "  0.3834267556667328,\n",
       "  0.3830837905406952,\n",
       "  0.3827010691165924,\n",
       "  0.3821451961994171,\n",
       "  0.3817577064037323,\n",
       "  0.38149863481521606,\n",
       "  0.3812330365180969,\n",
       "  0.3808884918689728,\n",
       "  0.38049080967903137,\n",
       "  0.38018226623535156,\n",
       "  0.3799799680709839,\n",
       "  0.3795330822467804,\n",
       "  0.37915951013565063,\n",
       "  0.3789532482624054,\n",
       "  0.3785613179206848,\n",
       "  0.3783775568008423,\n",
       "  0.37821337580680847,\n",
       "  0.3777468800544739,\n",
       "  0.37769898772239685,\n",
       "  0.3773210644721985,\n",
       "  0.3771388530731201,\n",
       "  0.3768444061279297]}"
      ]
     },
     "execution_count": 59,
     "metadata": {},
     "output_type": "execute_result"
    }
   ],
   "source": [
    "# Getting history dict\n",
    "history.history"
   ]
  },
  {
   "cell_type": "code",
   "execution_count": 60,
   "id": "6723421e",
   "metadata": {},
   "outputs": [
    {
     "data": {
      "text/plain": [
       "[<matplotlib.lines.Line2D at 0x7f9a4c584a10>]"
      ]
     },
     "execution_count": 60,
     "metadata": {},
     "output_type": "execute_result"
    },
    {
     "data": {
      "image/png": "[encoded data removed]",
      "text/plain": [
       "<Figure size 640x480 with 1 Axes>"
      ]
     },
     "metadata": {},
     "output_type": "display_data"
    }
   ],
   "source": [
    "# Plot of loss\n",
    "plt.plot(history.history['loss'], color='red', label='loss')\n",
    "plt.plot(history.history['val_loss'], color='green', label='val_loss')"
   ]
  },
  {
   "cell_type": "markdown",
   "id": "badec63d",
   "metadata": {},
   "source": [
    "**Generalizing Well**- If both loss and validation loss are decreasing.\n",
    "\n",
    "**Overfitting**-If loss is decreasing but validation loss is increasing or staying constant, it suggests that the model might be overfitting, meaning it's learning to memorize the training data rather than generalizing from it.\n",
    "\n",
    "**Underfitting**-If both loss and validation loss are high and not decreasing, it suggest that model might might be underfitting, meaning it's not capturing the pattern in the data effectively."
   ]
  },
  {
   "cell_type": "code",
   "execution_count": 61,
   "id": "7585ce7d",
   "metadata": {},
   "outputs": [
    {
     "data": {
      "text/plain": [
       "[<matplotlib.lines.Line2D at 0x7f9a4c469f50>]"
      ]
     },
     "execution_count": 61,
     "metadata": {},
     "output_type": "execute_result"
    },
    {
     "data": {
      "image/png": "[encoded data removed]",
      "text/plain": [
       "<Figure size 640x480 with 1 Axes>"
      ]
     },
     "metadata": {},
     "output_type": "display_data"
    }
   ],
   "source": [
    "# Plot of accuracy\n",
    "plt.plot(history.history['accuracy'], color='red', label='accuracy')\n",
    "plt.plot(history.history['val_accuracy'], color='green', label='val_accuracy')"
   ]
  },
  {
   "cell_type": "code",
   "execution_count": null,
   "id": "092e1f56",
   "metadata": {},
   "outputs": [],
   "source": []
  }
 ],
 "metadata": {
  "kernelspec": {
   "display_name": "Python 3 (ipykernel)",
   "language": "python",
   "name": "python3"
  },
  "language_info": {
   "codemirror_mode": {
    "name": "ipython",
    "version": 3
   },
   "file_extension": ".py",
   "mimetype": "text/x-python",
   "name": "python",
   "nbconvert_exporter": "python",
   "pygments_lexer": "ipython3",
   "version": "3.11.5"
  }
 },
 "nbformat": 4,
 "nbformat_minor": 5
}
